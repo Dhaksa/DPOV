{
 "cells": [
  {
   "cell_type": "code",
   "execution_count": 4,
   "id": "60cb8eb7",
   "metadata": {},
   "outputs": [
    {
     "name": "stdout",
     "output_type": "stream",
     "text": [
      "\n",
      "0: 480x640 5 Pallets, 657.1ms\n",
      "Speed: 7.4ms preprocess, 657.1ms inference, 1.8ms postprocess per image at shape (1, 3, 480, 640)\n"
     ]
    }
   ],
   "source": [
    "import cv2\n",
    "from ultralytics import YOLO\n",
    "\n",
    "# Load your trained YOLOv8m model\n",
    "model = YOLO(\"C:\\\\Users\\\\dhaks\\\\Downloads\\\\Pallet detection\\\\best.pt\")  # <-- change this to your model path\n",
    "\n",
    "# Load the image you want to test\n",
    "image_path = \"C:\\\\Users\\\\dhaks\\\\Downloads\\\\Pallet detection\\\\sample-2.jpg\"  # <-- change this to your image\n",
    "image = cv2.imread(image_path)\n",
    "\n",
    "# Run inference\n",
    "results = model(image)\n",
    "\n",
    "# Initialize some values\n",
    "docking_side_detected = False\n",
    "\n",
    "# Draw results and check aspect ratio\n",
    "for result in results:\n",
    "    for box in result.boxes:\n",
    "        cls_id = int(box.cls[0])\n",
    "        conf = float(box.conf[0])\n",
    "        x1, y1, x2, y2 = map(int, box.xyxy[0])\n",
    "\n",
    "        # Only process if confidence score is above a threshold (e.g., 0.5)\n",
    "        if conf < 0.5:\n",
    "            continue\n",
    "\n",
    "        # Calculate width and height of the bounding box\n",
    "        width = x2 - x1\n",
    "        height = y2 - y1\n",
    "\n",
    "        aspect_ratio = width / height\n",
    "\n",
    "        # Dynamic threshold for aspect ratio, adjusting for different pallet orientations\n",
    "        if aspect_ratio > 1.5:  # Adjust this threshold based on your observation\n",
    "            text = \"Possible Docking side detected\"\n",
    "            color = (0, 255, 0)  # Green\n",
    "            docking_side_detected = True\n",
    "        else:\n",
    "            text = \"Not docking side\"\n",
    "            color = (0, 0, 255)  # Red\n",
    "\n",
    "        # Draw box and label\n",
    "        cv2.rectangle(image, (x1, y1), (x2, y2), color, 2)\n",
    "        cv2.putText(image, f\"{text} | AR: {aspect_ratio:.2f}\", (x1, y1 - 10),\n",
    "                    cv2.FONT_HERSHEY_SIMPLEX, 1.0, color, 3)  # Increased font size and thickness\n",
    "\n",
    "# Add a fallback check (if no docking side detected, you may instruct AMR to move)\n",
    "if not docking_side_detected:\n",
    "    print(\"No docking side detected. Instruct AMR to move left/right and search further.\")\n",
    "\n",
    "# Resize image to fit your screen (Optional, helps if the image is too large)\n",
    "resized_image = cv2.resize(image, (800, 600))\n",
    "\n",
    "# Show the result: This will display the entire image with bounding boxes and labels.\n",
    "cv2.imshow(\"Docking Side Detection\", resized_image)\n",
    "cv2.waitKey(0)\n",
    "cv2.destroyAllWindows()\n"
   ]
  }
 ],
 "metadata": {
  "kernelspec": {
   "display_name": "pallet",
   "language": "python",
   "name": "python3"
  },
  "language_info": {
   "codemirror_mode": {
    "name": "ipython",
    "version": 3
   },
   "file_extension": ".py",
   "mimetype": "text/x-python",
   "name": "python",
   "nbconvert_exporter": "python",
   "pygments_lexer": "ipython3",
   "version": "3.10.0"
  }
 },
 "nbformat": 4,
 "nbformat_minor": 5
}
